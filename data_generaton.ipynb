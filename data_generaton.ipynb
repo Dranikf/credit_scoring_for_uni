{
 "cells": [
  {
   "cell_type": "code",
   "execution_count": 20,
   "metadata": {},
   "outputs": [],
   "source": [
    "import pandas as pd;\n",
    "import numpy as np;\n",
    "import matplotlib.pyplot as plt;\n",
    "\n",
    "import seaborn as sns;\n",
    "from datetime  import date, timedelta;"
   ]
  },
  {
   "cell_type": "code",
   "execution_count": 21,
   "metadata": {},
   "outputs": [],
   "source": [
    "# объем генерируемой выборки\n",
    "N = 125639"
   ]
  },
  {
   "cell_type": "code",
   "execution_count": 22,
   "metadata": {},
   "outputs": [],
   "source": [
    "rand = np.random.default_rng()\n",
    "\n",
    "# изначально не отрицательное нормальное распределение с достаточно большой дисперсией\n",
    "data = pd.DataFrame({'default_days':   np.fix(np.abs(rand.normal(0,40,N)))  })\n",
    "\n",
    "# 40% получат просрочку 0\n",
    "data.default_days[rand.uniform(0,1,N) < 0.4] = 0;\n",
    "# 20% получат прострочку 1\n",
    "data.default_days[rand.uniform(0,1,N) < 0.2] = 1;\n",
    "# 10% получают просрочку 2\n",
    "data.default_days[rand.uniform(0,1,N) < 0.1] = 2;\n",
    "# 10% получают просрочку 3\n",
    "data.default_days[rand.uniform(0,1,N) < 0.1] = 3;\n",
    "\n"
   ]
  },
  {
   "cell_type": "markdown",
   "metadata": {},
   "source": [
    "создаем колонку с дефолтами"
   ]
  },
  {
   "cell_type": "code",
   "execution_count": 23,
   "metadata": {},
   "outputs": [],
   "source": [
    "data.loc[data.default_days <= 30 ,'defalts_types'] = 0 \n",
    "data.loc[(data.default_days > 30) & (data.default_days <= 60),'defalts_types'] = 1\n",
    "data.loc[data.default_days > 60 ,'defalts_types'] = 2"
   ]
  },
  {
   "cell_type": "markdown",
   "metadata": {},
   "source": [
    "создаем колонку пол"
   ]
  },
  {
   "cell_type": "code",
   "execution_count": 24,
   "metadata": {},
   "outputs": [
    {
     "data": {
      "text/html": [
       "<div>\n",
       "<style scoped>\n",
       "    .dataframe tbody tr th:only-of-type {\n",
       "        vertical-align: middle;\n",
       "    }\n",
       "\n",
       "    .dataframe tbody tr th {\n",
       "        vertical-align: top;\n",
       "    }\n",
       "\n",
       "    .dataframe thead th {\n",
       "        text-align: right;\n",
       "    }\n",
       "</style>\n",
       "<table border=\"1\" class=\"dataframe\">\n",
       "  <thead>\n",
       "    <tr style=\"text-align: right;\">\n",
       "      <th>sex</th>\n",
       "      <th>Female</th>\n",
       "      <th>Male</th>\n",
       "      <th>Female%</th>\n",
       "      <th>Male%</th>\n",
       "    </tr>\n",
       "    <tr>\n",
       "      <th>defalts_types</th>\n",
       "      <th></th>\n",
       "      <th></th>\n",
       "      <th></th>\n",
       "      <th></th>\n",
       "    </tr>\n",
       "  </thead>\n",
       "  <tbody>\n",
       "    <tr>\n",
       "      <th>0.0</th>\n",
       "      <td>62634</td>\n",
       "      <td>41627</td>\n",
       "      <td>0.600742</td>\n",
       "      <td>0.399255</td>\n",
       "    </tr>\n",
       "    <tr>\n",
       "      <th>1.0</th>\n",
       "      <td>7424</td>\n",
       "      <td>7730</td>\n",
       "      <td>0.489904</td>\n",
       "      <td>0.510080</td>\n",
       "    </tr>\n",
       "    <tr>\n",
       "      <th>2.0</th>\n",
       "      <td>2810</td>\n",
       "      <td>3414</td>\n",
       "      <td>0.451478</td>\n",
       "      <td>0.548482</td>\n",
       "    </tr>\n",
       "  </tbody>\n",
       "</table>\n",
       "</div>"
      ],
      "text/plain": [
       "sex            Female   Male   Female%     Male%\n",
       "defalts_types                                   \n",
       "0.0             62634  41627  0.600742  0.399255\n",
       "1.0              7424   7730  0.489904  0.510080\n",
       "2.0              2810   3414  0.451478  0.548482"
      ]
     },
     "execution_count": 24,
     "metadata": {},
     "output_type": "execute_result"
    }
   ],
   "source": [
    "sample = rand.uniform(0,1, N)\n",
    "\n",
    "data.loc[:, 'sex'] = \"Female\"\n",
    "\n",
    "data.loc[(data['defalts_types'] == 0) & (sample > 0.60), 'sex'] = 'Male'\n",
    "data.loc[(data['defalts_types'] == 1) & (sample > 0.50), 'sex'] = 'Male'\n",
    "data.loc[(data['defalts_types'] == 2) & (sample > 0.45), 'sex'] = 'Male'\n",
    "\n",
    "\n",
    "test = pd.crosstab(data.defalts_types, data.sex)\n",
    "test['Female%']  = test.loc[:,'Female']/test.sum(axis = 1)\n",
    "test['Male%'] = test.loc[:, 'Male'] / test.sum(axis = 1)\n",
    "test\n"
   ]
  },
  {
   "cell_type": "markdown",
   "metadata": {},
   "source": [
    "создаем колонку возраст"
   ]
  },
  {
   "cell_type": "code",
   "execution_count": 25,
   "metadata": {},
   "outputs": [
    {
     "data": {
      "text/plain": [
       "18.0"
      ]
     },
     "execution_count": 25,
     "metadata": {},
     "output_type": "execute_result"
    },
    {
     "data": {
      "image/png": "[encoded data removed]",
      "text/plain": [
       "<Figure size 720x720 with 1 Axes>"
      ]
     },
     "metadata": {
      "needs_background": "light"
     },
     "output_type": "display_data"
    }
   ],
   "source": [
    "data.loc[(data['defalts_types'] == 0) , 'age'] = np.fix(rand.normal(34, 10, sum((data['defalts_types'] == 0)) ))\n",
    "data.loc[(data['defalts_types'] == 1) , 'age'] = np.fix(rand.normal(28, 7, sum((data['defalts_types'] == 1)) ))\n",
    "data.loc[(data['defalts_types'] == 2), 'age'] = np.fix(rand.normal(25, 1.5, sum((data['defalts_types'] == 2)) ))\n",
    "\n",
    "# сделаем парочку человек из дефолтных групп постарше\n",
    "#data.loc[(data['defalts_types'] == 1) , 'age'].sample(10) = np.fix(rand.normal(50, 5, 10 ))\n",
    "data.iloc[data.loc[(data['defalts_types'] == 1) , 'age'].sample(400).index,3] = np.fix(rand.normal(45, 10, 400 ))\n",
    "data.iloc[data.loc[(data['defalts_types'] == 2) , 'age'].sample(130).index,3] = np.fix(rand.normal(35, 10, 130 ))\n",
    "\n",
    "# подкрутим немного нижний хвост группы дефолтности 0\n",
    "data.iloc[data.loc[(data['defalts_types'] == 0) & (data['age'] < 40) , 'age'].sample(1000).index,3] = np.fix(rand.normal(50, 1, 1000 ))\n",
    "\n",
    "\n",
    "while sum(data['age'] < 18) != 0:\n",
    "        data.loc[(data['age'] < 18), 'age'] = np.fix(rand.normal(50, 10, sum(data['age'] < 18)  ))\n",
    "\n",
    "\n",
    "data.loc[data['age'] > 73, 'age'] = np.fix(rand.uniform(18,70, sum(data['age'] > 73))) \n",
    "\n",
    "plt.figure(figsize = [10,10])\n",
    "sns.boxplot(x = 'defalts_types', y = 'age', data= data)\n",
    "\n",
    "data.age.min()"
   ]
  },
  {
   "cell_type": "markdown",
   "metadata": {},
   "source": [
    "создаем колонку месячного уровня дохода"
   ]
  },
  {
   "cell_type": "code",
   "execution_count": 26,
   "metadata": {},
   "outputs": [
    {
     "data": {
      "text/plain": [
       "<AxesSubplot:xlabel='defalts_types', ylabel='income_level_BYR'>"
      ]
     },
     "execution_count": 26,
     "metadata": {},
     "output_type": "execute_result"
    },
    {
     "data": {
      "image/png": "[encoded data removed]",
      "text/plain": [
       "<Figure size 720x720 with 1 Axes>"
      ]
     },
     "metadata": {
      "needs_background": "light"
     },
     "output_type": "display_data"
    }
   ],
   "source": [
    "data.loc[(data['defalts_types'] == 0) & (data['age'] > 60) , 'income_level_BYR'] = np.fix(rand.normal(800, 5, sum((data['defalts_types'] == 0) & (data['age'] > 60)) ))\n",
    "data.loc[(data['defalts_types'] == 0) & (data['age'] <= 60) & (data['age'] > 30) , 'income_level_BYR'] = np.fix(rand.normal(1700, 50, sum((data['defalts_types'] == 0) & (data['age'] <= 60) & (data['age'] > 30)) ))\n",
    "data.loc[(data['defalts_types'] == 0) & (data['age'] > 25)  & (data['age'] <= 30) , 'income_level_BYR'] = np.fix(rand.normal(1100, 50, sum((data['defalts_types'] == 0) & (data['age'] > 25)  & (data['age'] <= 30)) ))\n",
    "data.loc[(data['defalts_types'] == 0) & (data['age'] >= 18) & (data['age'] <= 25)  , 'income_level_BYR'] = np.fix(rand.normal(900, 50, sum((data['defalts_types'] == 0) & (data['age'] >= 18) & (data['age'] <= 25)) ))\n",
    "\n",
    "data.loc[(data['defalts_types'] == 1) & (data['age'] > 60) , 'income_level_BYR'] = np.fix(rand.normal(700, 5, sum((data['defalts_types'] == 1) & (data['age'] > 60)) ))\n",
    "data.loc[(data['defalts_types'] == 1) & (data['age'] <= 60) & (data['age'] > 30) , 'income_level_BYR'] = np.fix(rand.normal(1500, 50, sum((data['defalts_types'] == 1) & (data['age'] <= 60) & (data['age'] > 30)) ))\n",
    "data.loc[(data['defalts_types'] == 1) & (data['age'] > 25)  & (data['age'] <= 30) , 'income_level_BYR'] = np.fix(rand.normal(900, 50, sum((data['defalts_types'] == 1) & (data['age'] > 25)  & (data['age'] <= 30)) ))\n",
    "data.loc[(data['defalts_types'] == 1) & (data['age'] >= 18) & (data['age'] <= 25) , 'income_level_BYR'] = np.fix(rand.normal(800, 50, sum((data['defalts_types'] == 1) & (data['age'] >= 18) & (data['age'] <= 25)) ))\n",
    "\n",
    "\n",
    "data.loc[(data['defalts_types'] == 2) & (data['age'] > 60) , 'income_level_BYR'] = np.fix(rand.normal(600, 5, sum((data['defalts_types'] == 2) & (data['age'] > 60)) ))\n",
    "data.loc[(data['defalts_types'] == 2) & (data['age'] <= 60) & (data['age'] > 30) , 'income_level_BYR'] = np.fix(rand.normal(1400, 50, sum((data['defalts_types'] == 2) & (data['age'] <= 60) & (data['age'] > 30)) ))\n",
    "data.loc[(data['defalts_types'] == 2) & (data['age'] > 25)  & (data['age'] <= 30) , 'income_level_BYR'] = np.fix(rand.normal(900, 50, sum((data['defalts_types'] == 2) & (data['age'] > 25)  & (data['age'] <= 30)) ))\n",
    "data.loc[(data['defalts_types'] == 2) & (data['age'] >= 18) & (data['age'] <= 25)  , 'income_level_BYR'] = np.fix(rand.normal(700, 50, sum((data['defalts_types'] == 2) & (data['age'] >= 18) & (data['age'] <= 25)) ))\n",
    "\n",
    "\n",
    "data.iloc[data.sample(20000).index,4] = np.fix(rand.normal(data['income_level_BYR'].mean(), 100, 20000))\n",
    "data.iloc[data.sample(500).index,4] = 0\n",
    "\n",
    "plt.figure(figsize = [10,10])\n",
    "sns.boxplot(x = 'defalts_types', y = 'income_level_BYR', data= data)\n"
   ]
  },
  {
   "cell_type": "markdown",
   "metadata": {},
   "source": [
    "создаем колонку ежемесячного платежа (потом удалю ее)"
   ]
  },
  {
   "cell_type": "code",
   "execution_count": 27,
   "metadata": {},
   "outputs": [
    {
     "data": {
      "text/plain": [
       "<AxesSubplot:xlabel='defalts_types', ylabel='monthly_payment_BYR'>"
      ]
     },
     "execution_count": 27,
     "metadata": {},
     "output_type": "execute_result"
    },
    {
     "data": {
      "image/png": "[encoded data removed]",
      "text/plain": [
       "<Figure size 720x720 with 1 Axes>"
      ]
     },
     "metadata": {
      "needs_background": "light"
     },
     "output_type": "display_data"
    }
   ],
   "source": [
    "means = [69, 102, 150];\n",
    "stds = [65, 100, 150]\n",
    "\n",
    "for i in range(3):\n",
    "    data.loc[(data['defalts_types'] == i), 'monthly_payment_BYR'] = np.fix(np.abs(rand.normal(means[i], stds[i],   sum((data['defalts_types'] == i))  )))\n",
    "\n",
    "\n",
    "# добавим шума\n",
    "data.iloc[data.sample(20000).index,5] = np.abs(np.fix(rand.normal(data['monthly_payment_BYR'].mean(), 50, 20000)))\n",
    "\n",
    "# исправим чрезвычано малые суммы\n",
    "data.loc[data['monthly_payment_BYR'] < 10, 'monthly_payment_BYR'] = np.fix(rand.uniform(10, 45,sum(data['monthly_payment_BYR'] < 10)) )\n",
    "\n",
    "\n",
    "\n",
    "plt.figure(figsize = [10,10])\n",
    "sns.boxplot(x = 'defalts_types', y = 'monthly_payment_BYR', data= data)"
   ]
  },
  {
   "cell_type": "markdown",
   "metadata": {},
   "source": [
    "Колонка с датой регистрации договора"
   ]
  },
  {
   "cell_type": "code",
   "execution_count": 28,
   "metadata": {},
   "outputs": [],
   "source": [
    "min_date = np.datetime64('2016-01-01')\n",
    "\n",
    "data.loc[:,'registration_date'] = min_date + np.array(np.fix(rand.uniform(0, 365, N)), dtype='timedelta64[D]')\n",
    "\n",
    "\n",
    "\n",
    "# большие кредиты наврятли дадут через интернет банкинг потому выкинем записи об воскресеньях о больших кредитах\n",
    "data['week_days'] = data['registration_date'].apply(lambda x: x.weekday())\n",
    "data.loc[(data['week_days'] == 6) , 'registration_date'] -= np.array(np.fix(rand.uniform(1, 6, sum(data['week_days'] == 6) )), dtype='timedelta64[D]')\n",
    "data.drop('week_days', axis = 1, inplace=True)\n",
    "\n"
   ]
  },
  {
   "cell_type": "code",
   "execution_count": 29,
   "metadata": {},
   "outputs": [],
   "source": [
    "# смортим кредиты что должны были быть погашены за 2 года\n",
    "monthes_to_pay = np.array(np.fix(rand.uniform(2,24,N)), dtype='timedelta64[M]')\n",
    "data.loc[:,'repayment_date'] = data['registration_date'] + monthes_to_pay"
   ]
  },
  {
   "cell_type": "code",
   "execution_count": 30,
   "metadata": {},
   "outputs": [
    {
     "data": {
      "text/html": [
       "<div>\n",
       "<style scoped>\n",
       "    .dataframe tbody tr th:only-of-type {\n",
       "        vertical-align: middle;\n",
       "    }\n",
       "\n",
       "    .dataframe tbody tr th {\n",
       "        vertical-align: top;\n",
       "    }\n",
       "\n",
       "    .dataframe thead th {\n",
       "        text-align: right;\n",
       "    }\n",
       "</style>\n",
       "<table border=\"1\" class=\"dataframe\">\n",
       "  <thead>\n",
       "    <tr style=\"text-align: right;\">\n",
       "      <th></th>\n",
       "      <th>default_days</th>\n",
       "      <th>defalts_types</th>\n",
       "      <th>sex</th>\n",
       "      <th>age</th>\n",
       "      <th>income_level_BYR</th>\n",
       "      <th>monthly_payment_BYR</th>\n",
       "      <th>registration_date</th>\n",
       "      <th>repayment_date</th>\n",
       "    </tr>\n",
       "  </thead>\n",
       "  <tbody>\n",
       "    <tr>\n",
       "      <th>0</th>\n",
       "      <td>0.0</td>\n",
       "      <td>0.0</td>\n",
       "      <td>Female</td>\n",
       "      <td>21.0</td>\n",
       "      <td>912.0</td>\n",
       "      <td>27.0</td>\n",
       "      <td>2016-08-27</td>\n",
       "      <td>2018-03-27</td>\n",
       "    </tr>\n",
       "    <tr>\n",
       "      <th>1</th>\n",
       "      <td>1.0</td>\n",
       "      <td>0.0</td>\n",
       "      <td>Female</td>\n",
       "      <td>27.0</td>\n",
       "      <td>1045.0</td>\n",
       "      <td>28.0</td>\n",
       "      <td>2016-07-08</td>\n",
       "      <td>2017-02-05</td>\n",
       "    </tr>\n",
       "    <tr>\n",
       "      <th>2</th>\n",
       "      <td>0.0</td>\n",
       "      <td>0.0</td>\n",
       "      <td>Female</td>\n",
       "      <td>55.0</td>\n",
       "      <td>1509.0</td>\n",
       "      <td>22.0</td>\n",
       "      <td>2016-08-12</td>\n",
       "      <td>2017-01-10</td>\n",
       "    </tr>\n",
       "    <tr>\n",
       "      <th>3</th>\n",
       "      <td>11.0</td>\n",
       "      <td>0.0</td>\n",
       "      <td>Female</td>\n",
       "      <td>40.0</td>\n",
       "      <td>1592.0</td>\n",
       "      <td>157.0</td>\n",
       "      <td>2016-09-05</td>\n",
       "      <td>2017-01-03</td>\n",
       "    </tr>\n",
       "    <tr>\n",
       "      <th>4</th>\n",
       "      <td>39.0</td>\n",
       "      <td>1.0</td>\n",
       "      <td>Male</td>\n",
       "      <td>24.0</td>\n",
       "      <td>816.0</td>\n",
       "      <td>77.0</td>\n",
       "      <td>2016-09-26</td>\n",
       "      <td>2018-05-27</td>\n",
       "    </tr>\n",
       "  </tbody>\n",
       "</table>\n",
       "</div>"
      ],
      "text/plain": [
       "   default_days  defalts_types     sex   age  income_level_BYR  \\\n",
       "0           0.0            0.0  Female  21.0             912.0   \n",
       "1           1.0            0.0  Female  27.0            1045.0   \n",
       "2           0.0            0.0  Female  55.0            1509.0   \n",
       "3          11.0            0.0  Female  40.0            1592.0   \n",
       "4          39.0            1.0    Male  24.0             816.0   \n",
       "\n",
       "   monthly_payment_BYR registration_date repayment_date  \n",
       "0                 27.0        2016-08-27     2018-03-27  \n",
       "1                 28.0        2016-07-08     2017-02-05  \n",
       "2                 22.0        2016-08-12     2017-01-10  \n",
       "3                157.0        2016-09-05     2017-01-03  \n",
       "4                 77.0        2016-09-26     2018-05-27  "
      ]
     },
     "execution_count": 30,
     "metadata": {},
     "output_type": "execute_result"
    }
   ],
   "source": [
    "data.head()"
   ]
  },
  {
   "cell_type": "markdown",
   "metadata": {},
   "source": [
    "сумма договора как срок кредита в месяцаз умноженный на срок кредита"
   ]
  },
  {
   "cell_type": "code",
   "execution_count": 31,
   "metadata": {},
   "outputs": [
    {
     "data": {
      "text/plain": [
       "20.0"
      ]
     },
     "execution_count": 31,
     "metadata": {},
     "output_type": "execute_result"
    },
    {
     "data": {
      "image/png": "[encoded data removed]",
      "text/plain": [
       "<Figure size 432x288 with 1 Axes>"
      ]
     },
     "metadata": {
      "needs_background": "light"
     },
     "output_type": "display_data"
    }
   ],
   "source": [
    "data.loc[:, 'contract_summ'] = (data.monthly_payment_BYR * monthes_to_pay.astype(int));\n",
    "\n",
    "\n",
    "# удалим показатель ежемесячного платежа предполагается что в дальнейшем мы его хитрым аналилитическим решением получим\n",
    "data.drop('monthly_payment_BYR', axis = 1, inplace = True)\n",
    "\n",
    "\n",
    "# отразим то что график должен быть пилоообразный - люди предпочитают круглые суммы кредитов\n",
    "\n",
    "\n",
    "for i in range(-1,-4, -1):\n",
    "    my_sample = data.sample(40**(-i)).index\n",
    "    data.iloc[my_sample,-1] = np.round(data.iloc[my_sample, -1], i)\n",
    "\n",
    "\n",
    "# устраним записи с менее чем 10 рублями\n",
    "data.loc[data['contract_summ'] < 10,'contract_summ'] = np.round(rand.uniform(10, 50), -1)\n",
    "\n",
    "plt.hist(data['contract_summ'], bins = 50)\n",
    "data['contract_summ'].min()\n",
    "\n"
   ]
  },
  {
   "cell_type": "markdown",
   "metadata": {},
   "source": [
    "количесво обращений в кредитное бюро за последные 30 дней"
   ]
  },
  {
   "cell_type": "code",
   "execution_count": 32,
   "metadata": {},
   "outputs": [
    {
     "data": {
      "text/plain": [
       "<AxesSubplot:xlabel='defalts_types', ylabel='СВ_30_days'>"
      ]
     },
     "execution_count": 32,
     "metadata": {},
     "output_type": "execute_result"
    },
    {
     "data": {
      "image/png": "[encoded data removed]",
      "text/plain": [
       "<Figure size 432x288 with 1 Axes>"
      ]
     },
     "metadata": {
      "needs_background": "light"
     },
     "output_type": "display_data"
    }
   ],
   "source": [
    "# будет распределено в соотвествии с распределением Пуассона с увеличением средней\n",
    "\n",
    "means = [2, 2, 2];\n",
    "\n",
    "for i in range(3):\n",
    "    data.loc[data.defalts_types == i, 'СВ_30_days'] = np.fix(rand.exponential(means[i], sum(data.defalts_types == i)))\n",
    "\n",
    "sns.boxplot(x = 'defalts_types',  y ='СВ_30_days', data = data)"
   ]
  },
  {
   "cell_type": "markdown",
   "metadata": {},
   "source": [
    "Количесво дейсвоющих кредитных договоров"
   ]
  },
  {
   "cell_type": "code",
   "execution_count": 33,
   "metadata": {},
   "outputs": [
    {
     "name": "stdout",
     "output_type": "stream",
     "text": [
      "(214, 10)\n",
      "(214,)\n"
     ]
    },
    {
     "data": {
      "text/plain": [
       "<AxesSubplot:xlabel='defalts_types', ylabel='force_contract'>"
      ]
     },
     "execution_count": 33,
     "metadata": {},
     "output_type": "execute_result"
    },
    {
     "data": {
      "image/png": "[encoded data removed]",
      "text/plain": [
       "<Figure size 432x288 with 1 Axes>"
      ]
     },
     "metadata": {
      "needs_background": "light"
     },
     "output_type": "display_data"
    }
   ],
   "source": [
    "data.loc[:,'force_contract'] = np.fix(rand.exponential((data.default_days + (3 - data.default_days)/200)/20))\n",
    "\n",
    "\n",
    "# огнаниччим кол-во договоров 13ю\n",
    "print(data.loc[data['force_contract'] > 13,:].shape) \n",
    "generation = np.fix(rand.uniform(5, 12, sum(data['force_contract'] > 13)));\n",
    "print(generation.shape)\n",
    "\n",
    "data.loc[data['force_contract'] > 13,'force_contract'] = generation\n",
    "\n",
    "\n",
    "sns.boxplot(x = 'defalts_types',  y ='force_contract', data = data)"
   ]
  },
  {
   "cell_type": "markdown",
   "metadata": {},
   "source": [
    "недвижимость"
   ]
  },
  {
   "cell_type": "code",
   "execution_count": 34,
   "metadata": {},
   "outputs": [
    {
     "data": {
      "text/html": [
       "<div>\n",
       "<style scoped>\n",
       "    .dataframe tbody tr th:only-of-type {\n",
       "        vertical-align: middle;\n",
       "    }\n",
       "\n",
       "    .dataframe tbody tr th {\n",
       "        vertical-align: top;\n",
       "    }\n",
       "\n",
       "    .dataframe thead th {\n",
       "        text-align: right;\n",
       "    }\n",
       "</style>\n",
       "<table border=\"1\" class=\"dataframe\">\n",
       "  <thead>\n",
       "    <tr style=\"text-align: right;\">\n",
       "      <th>real_estate</th>\n",
       "      <th>No</th>\n",
       "      <th>Yes</th>\n",
       "      <th>Yes%</th>\n",
       "      <th>No%</th>\n",
       "    </tr>\n",
       "    <tr>\n",
       "      <th>defalts_types</th>\n",
       "      <th></th>\n",
       "      <th></th>\n",
       "      <th></th>\n",
       "      <th></th>\n",
       "    </tr>\n",
       "  </thead>\n",
       "  <tbody>\n",
       "    <tr>\n",
       "      <th>0.0</th>\n",
       "      <td>46240</td>\n",
       "      <td>58021</td>\n",
       "      <td>0.556498</td>\n",
       "      <td>0.443500</td>\n",
       "    </tr>\n",
       "    <tr>\n",
       "      <th>1.0</th>\n",
       "      <td>6367</td>\n",
       "      <td>8787</td>\n",
       "      <td>0.579847</td>\n",
       "      <td>0.420137</td>\n",
       "    </tr>\n",
       "    <tr>\n",
       "      <th>2.0</th>\n",
       "      <td>2674</td>\n",
       "      <td>3550</td>\n",
       "      <td>0.570373</td>\n",
       "      <td>0.429588</td>\n",
       "    </tr>\n",
       "  </tbody>\n",
       "</table>\n",
       "</div>"
      ],
      "text/plain": [
       "real_estate       No    Yes      Yes%       No%\n",
       "defalts_types                                  \n",
       "0.0            46240  58021  0.556498  0.443500\n",
       "1.0             6367   8787  0.579847  0.420137\n",
       "2.0             2674   3550  0.570373  0.429588"
      ]
     },
     "execution_count": 34,
     "metadata": {},
     "output_type": "execute_result"
    }
   ],
   "source": [
    "cut_points = (data.age - data.age.min())*0.5/(data.age.max() - data.age.min()) + (data.income_level_BYR - data.income_level_BYR.min())*0.5/(data.income_level_BYR.max() - data.income_level_BYR.min()) + (data.default_days - data.default_days.min())*0.6/(data.default_days.max() - data.default_days.min())\n",
    "\n",
    "sample = rand.uniform(0,1,N)\n",
    "\n",
    "data.loc[cut_points < sample, 'real_estate'] = 'Yes'\n",
    "data.loc[cut_points >= sample, 'real_estate'] = 'No'\n",
    "\n",
    "test = pd.crosstab(data.defalts_types, data.real_estate)\n",
    "test['Yes%']  = test.loc[:,'Yes']/test.sum(axis = 1)\n",
    "test['No%'] = test.loc[:, 'No'] / test.sum(axis = 1)\n",
    "test\n"
   ]
  },
  {
   "cell_type": "markdown",
   "metadata": {},
   "source": [
    "Образование"
   ]
  },
  {
   "cell_type": "code",
   "execution_count": 35,
   "metadata": {},
   "outputs": [
    {
     "data": {
      "text/html": [
       "<div>\n",
       "<style scoped>\n",
       "    .dataframe tbody tr th:only-of-type {\n",
       "        vertical-align: middle;\n",
       "    }\n",
       "\n",
       "    .dataframe tbody tr th {\n",
       "        vertical-align: top;\n",
       "    }\n",
       "\n",
       "    .dataframe thead th {\n",
       "        text-align: right;\n",
       "    }\n",
       "</style>\n",
       "<table border=\"1\" class=\"dataframe\">\n",
       "  <thead>\n",
       "    <tr style=\"text-align: right;\">\n",
       "      <th>defalts_types</th>\n",
       "      <th>0.0</th>\n",
       "      <th>1.0</th>\n",
       "      <th>2.0</th>\n",
       "      <th>0%</th>\n",
       "      <th>1%</th>\n",
       "      <th>2%</th>\n",
       "    </tr>\n",
       "    <tr>\n",
       "      <th>Education</th>\n",
       "      <th></th>\n",
       "      <th></th>\n",
       "      <th></th>\n",
       "      <th></th>\n",
       "      <th></th>\n",
       "      <th></th>\n",
       "    </tr>\n",
       "  </thead>\n",
       "  <tbody>\n",
       "    <tr>\n",
       "      <th>высшее</th>\n",
       "      <td>41739</td>\n",
       "      <td>4124</td>\n",
       "      <td>797</td>\n",
       "      <td>0.894535</td>\n",
       "      <td>0.088382</td>\n",
       "      <td>0.017081</td>\n",
       "    </tr>\n",
       "    <tr>\n",
       "      <th>незаконченное высшее</th>\n",
       "      <td>5166</td>\n",
       "      <td>1164</td>\n",
       "      <td>815</td>\n",
       "      <td>0.723023</td>\n",
       "      <td>0.162895</td>\n",
       "      <td>0.114052</td>\n",
       "    </tr>\n",
       "    <tr>\n",
       "      <th>неполное среднее</th>\n",
       "      <td>3083</td>\n",
       "      <td>597</td>\n",
       "      <td>360</td>\n",
       "      <td>0.763119</td>\n",
       "      <td>0.147744</td>\n",
       "      <td>0.089089</td>\n",
       "    </tr>\n",
       "    <tr>\n",
       "      <th>среднее</th>\n",
       "      <td>26267</td>\n",
       "      <td>4595</td>\n",
       "      <td>2151</td>\n",
       "      <td>0.795656</td>\n",
       "      <td>0.139184</td>\n",
       "      <td>0.065154</td>\n",
       "    </tr>\n",
       "    <tr>\n",
       "      <th>среднее специальное</th>\n",
       "      <td>28006</td>\n",
       "      <td>4674</td>\n",
       "      <td>2101</td>\n",
       "      <td>0.805210</td>\n",
       "      <td>0.134381</td>\n",
       "      <td>0.060405</td>\n",
       "    </tr>\n",
       "  </tbody>\n",
       "</table>\n",
       "</div>"
      ],
      "text/plain": [
       "defalts_types           0.0   1.0   2.0        0%        1%        2%\n",
       "Education                                                            \n",
       "высшее                41739  4124   797  0.894535  0.088382  0.017081\n",
       "незаконченное высшее   5166  1164   815  0.723023  0.162895  0.114052\n",
       "неполное среднее       3083   597   360  0.763119  0.147744  0.089089\n",
       "среднее               26267  4595  2151  0.795656  0.139184  0.065154\n",
       "среднее специальное   28006  4674  2101  0.805210  0.134381  0.060405"
      ]
     },
     "execution_count": 35,
     "metadata": {},
     "output_type": "execute_result"
    }
   ],
   "source": [
    "random_sample = rand.uniform(0,1, N)\n",
    "grop_names = ['высшее', 'незаконченное высшее', 'неполное среднее', 'среднее', 'среднее специальное']\n",
    "probs = [   [0, 0 , 0],\n",
    "            [0.4, 0.27, 0.13],\n",
    "            [0.45, 0.35, 0.26],\n",
    "            [0.48, 0.39, 0.32],\n",
    "            [0.73, 0.69, 0.66],\n",
    "            [1, 1, 1]]\n",
    "\n",
    "\n",
    "for i in range(1,6):\n",
    "    for j in range(3):\n",
    "        data.loc[(data.defalts_types == j) & (random_sample <= probs[i][j]) & (random_sample >= probs[i-1][j]), 'Education'] =  grop_names[i-1]\n",
    "\n",
    "\n",
    "\n",
    "test = pd.crosstab(data.Education, data.defalts_types)\n",
    "test['0%']  = test.iloc[:,0]/test.sum(axis = 1)\n",
    "test['1%'] = test.iloc[:, 1] / test.sum(axis = 1)\n",
    "test['2%'] = test.iloc[:, 2] / test.sum(axis = 1)\n",
    "test"
   ]
  },
  {
   "cell_type": "markdown",
   "metadata": {},
   "source": [
    "Количество иждивенцев"
   ]
  },
  {
   "cell_type": "code",
   "execution_count": 36,
   "metadata": {},
   "outputs": [],
   "source": [
    "# количесво иждивенцев - изначально предполагаю его не значимым потому сделаю тупо зависящим от возраста\n",
    "age_bins = [0, 22 , 25, 35, 40, 50, data['age'].max()]\n",
    "poiss_param = [0.1,0.2,0.5,0.5,0.3,0.2]\n",
    "\n",
    "for i in range(len(poiss_param)):\n",
    "    condition = (data['age']> age_bins[i]) & (data['age'] <= age_bins[i+1])\n",
    "    data.loc[condition,'dependents_count'] = rand.poisson(poiss_param[i], sum(condition))\n"
   ]
  },
  {
   "cell_type": "code",
   "execution_count": 37,
   "metadata": {},
   "outputs": [
    {
     "data": {
      "text/plain": [
       "0        2016-08-27\n",
       "1        2016-07-08\n",
       "2        2016-08-12\n",
       "3        2016-09-05\n",
       "4        2016-09-26\n",
       "            ...    \n",
       "125634   2016-12-20\n",
       "125635   2016-09-03\n",
       "125636   2016-07-22\n",
       "125637   2016-10-25\n",
       "125638   2016-09-14\n",
       "Name: registration_date, Length: 125639, dtype: datetime64[ns]"
      ]
     },
     "execution_count": 37,
     "metadata": {},
     "output_type": "execute_result"
    }
   ],
   "source": [
    "#data.loc[data.repayment_date < data.registration_date  , ['repayment_date', 'registration_date']]\n",
    "data.loc[:,'registration_date']"
   ]
  },
  {
   "cell_type": "code",
   "execution_count": 38,
   "metadata": {},
   "outputs": [
    {
     "data": {
      "text/html": [
       "<div>\n",
       "<style scoped>\n",
       "    .dataframe tbody tr th:only-of-type {\n",
       "        vertical-align: middle;\n",
       "    }\n",
       "\n",
       "    .dataframe tbody tr th {\n",
       "        vertical-align: top;\n",
       "    }\n",
       "\n",
       "    .dataframe thead th {\n",
       "        text-align: right;\n",
       "    }\n",
       "</style>\n",
       "<table border=\"1\" class=\"dataframe\">\n",
       "  <thead>\n",
       "    <tr style=\"text-align: right;\">\n",
       "      <th></th>\n",
       "      <th>default_days</th>\n",
       "      <th>sex</th>\n",
       "      <th>age</th>\n",
       "      <th>income_level_BYR</th>\n",
       "      <th>registration_date</th>\n",
       "      <th>repayment_date</th>\n",
       "      <th>contract_summ</th>\n",
       "      <th>СВ_30_days</th>\n",
       "      <th>force_contract</th>\n",
       "      <th>real_estate</th>\n",
       "      <th>Education</th>\n",
       "      <th>dependents_count</th>\n",
       "    </tr>\n",
       "  </thead>\n",
       "  <tbody>\n",
       "    <tr>\n",
       "      <th>0</th>\n",
       "      <td>0.0</td>\n",
       "      <td>Female</td>\n",
       "      <td>21.0</td>\n",
       "      <td>912.0</td>\n",
       "      <td>2016-08-27</td>\n",
       "      <td>2018-03-27</td>\n",
       "      <td>1000.0</td>\n",
       "      <td>1.0</td>\n",
       "      <td>0.0</td>\n",
       "      <td>No</td>\n",
       "      <td>среднее специальное</td>\n",
       "      <td>0.0</td>\n",
       "    </tr>\n",
       "    <tr>\n",
       "      <th>1</th>\n",
       "      <td>1.0</td>\n",
       "      <td>Female</td>\n",
       "      <td>27.0</td>\n",
       "      <td>1045.0</td>\n",
       "      <td>2016-07-08</td>\n",
       "      <td>2017-02-05</td>\n",
       "      <td>196.0</td>\n",
       "      <td>2.0</td>\n",
       "      <td>0.0</td>\n",
       "      <td>No</td>\n",
       "      <td>высшее</td>\n",
       "      <td>1.0</td>\n",
       "    </tr>\n",
       "    <tr>\n",
       "      <th>2</th>\n",
       "      <td>0.0</td>\n",
       "      <td>Female</td>\n",
       "      <td>55.0</td>\n",
       "      <td>1509.0</td>\n",
       "      <td>2016-08-12</td>\n",
       "      <td>2017-01-10</td>\n",
       "      <td>30.0</td>\n",
       "      <td>8.0</td>\n",
       "      <td>0.0</td>\n",
       "      <td>Yes</td>\n",
       "      <td>среднее</td>\n",
       "      <td>0.0</td>\n",
       "    </tr>\n",
       "    <tr>\n",
       "      <th>3</th>\n",
       "      <td>11.0</td>\n",
       "      <td>Female</td>\n",
       "      <td>40.0</td>\n",
       "      <td>1592.0</td>\n",
       "      <td>2016-09-05</td>\n",
       "      <td>2017-01-03</td>\n",
       "      <td>628.0</td>\n",
       "      <td>1.0</td>\n",
       "      <td>0.0</td>\n",
       "      <td>Yes</td>\n",
       "      <td>среднее</td>\n",
       "      <td>0.0</td>\n",
       "    </tr>\n",
       "    <tr>\n",
       "      <th>4</th>\n",
       "      <td>39.0</td>\n",
       "      <td>Male</td>\n",
       "      <td>24.0</td>\n",
       "      <td>816.0</td>\n",
       "      <td>2016-09-26</td>\n",
       "      <td>2018-05-27</td>\n",
       "      <td>2000.0</td>\n",
       "      <td>0.0</td>\n",
       "      <td>2.0</td>\n",
       "      <td>No</td>\n",
       "      <td>среднее специальное</td>\n",
       "      <td>1.0</td>\n",
       "    </tr>\n",
       "  </tbody>\n",
       "</table>\n",
       "</div>"
      ],
      "text/plain": [
       "   default_days     sex   age  income_level_BYR registration_date  \\\n",
       "0           0.0  Female  21.0             912.0        2016-08-27   \n",
       "1           1.0  Female  27.0            1045.0        2016-07-08   \n",
       "2           0.0  Female  55.0            1509.0        2016-08-12   \n",
       "3          11.0  Female  40.0            1592.0        2016-09-05   \n",
       "4          39.0    Male  24.0             816.0        2016-09-26   \n",
       "\n",
       "  repayment_date  contract_summ  СВ_30_days  force_contract real_estate  \\\n",
       "0     2018-03-27         1000.0         1.0             0.0          No   \n",
       "1     2017-02-05          196.0         2.0             0.0          No   \n",
       "2     2017-01-10           30.0         8.0             0.0         Yes   \n",
       "3     2017-01-03          628.0         1.0             0.0         Yes   \n",
       "4     2018-05-27         2000.0         0.0             2.0          No   \n",
       "\n",
       "             Education  dependents_count  \n",
       "0  среднее специальное               0.0  \n",
       "1               высшее               1.0  \n",
       "2              среднее               0.0  \n",
       "3              среднее               0.0  \n",
       "4  среднее специальное               1.0  "
      ]
     },
     "execution_count": 38,
     "metadata": {},
     "output_type": "execute_result"
    }
   ],
   "source": [
    "\n",
    "\n",
    "# даты в нужный формат \n",
    "data['registration_date'] = data['registration_date'].apply(lambda x: x.strftime('%Y-%m-%d')) \n",
    "data['repayment_date'] = data['repayment_date'].apply(lambda x: x.strftime('%Y-%m-%d')) \n",
    "\n",
    "\n",
    "\n",
    "data.drop('defalts_types', axis = 1, inplace = True)\n",
    "data.to_csv('input_data.csv')\n",
    "data.head()"
   ]
  }
 ],
 "metadata": {
  "interpreter": {
   "hash": "1ec2793be6503d0a4aa11e4e48e5d92bb2ada37f60081887d31a6d2b49f90b39"
  },
  "kernelspec": {
   "display_name": "Python 3.9.7 64-bit",
   "language": "python",
   "name": "python3"
  },
  "language_info": {
   "codemirror_mode": {
    "name": "ipython",
    "version": 3
   },
   "file_extension": ".py",
   "mimetype": "text/x-python",
   "name": "python",
   "nbconvert_exporter": "python",
   "pygments_lexer": "ipython3",
   "version": "3.9.7"
  },
  "orig_nbformat": 4
 },
 "nbformat": 4,
 "nbformat_minor": 2
}
